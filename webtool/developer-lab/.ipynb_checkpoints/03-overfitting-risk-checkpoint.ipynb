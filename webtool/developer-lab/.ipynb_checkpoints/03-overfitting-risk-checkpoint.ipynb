{
 "cells": [
  {
   "cell_type": "code",
   "execution_count": 1,
   "id": "aa85a7e1-3cf9-4d74-9743-763b26b86bc9",
   "metadata": {},
   "outputs": [],
   "source": [
    "# Developer Lab Notebook\n",
    "# Experiment: Measure Inference Cost and GPU Usage"
   ]
  },
  {
   "cell_type": "code",
   "execution_count": 2,
   "id": "95adf791-53e2-4f6d-bed9-75c5f5f1d404",
   "metadata": {},
   "outputs": [],
   "source": [
    "%matplotlib inline\n",
    "import sys, os\n",
    "sys.path.append(os.path.abspath(\"..\"))"
   ]
  },
  {
   "cell_type": "code",
   "execution_count": null,
   "id": "991920d6-d5c1-474f-b108-13b7b40bdbf6",
   "metadata": {},
   "outputs": [],
   "source": [
    "\"\"\"\n",
    "4. The current result analysis does not fully address the risk of overfitting. Achieving 99.43% accuracy in CDS classification might be influenced \n",
    "by data imbalances or the characteristics of negative sampling (e.g., downsampling of non-CDS regions). It remains unclear whether the model relies \n",
    "on genuine sequence features or on confounding factors like ORF length. To improve confidence in the results, it would be helpful to include a \n",
    "confusion matrix, detailed performance on short ORFs (<300 bp), and further exploration of the model’s decision criteria. \n",
    "\"\"\""
   ]
  },
  {
   "cell_type": "code",
   "execution_count": null,
   "id": "d576f3c9-80ee-45df-8378-331fe29f24d3",
   "metadata": {},
   "outputs": [
    {
     "name": "stdout",
     "output_type": "stream",
     "text": [
      "Processing bacteria-1.fasta\n"
     ]
    },
    {
     "name": "stderr",
     "output_type": "stream",
     "text": [
      "CDS Prediction:   4%|▍         | 6/150 [00:51<20:36,  8.59s/it]"
     ]
    }
   ],
   "source": [
    "import pandas as pd\n",
    "import numpy as np\n",
    "import torch\n",
    "from pathlib import Path\n",
    "from Bio import SeqIO\n",
    "import matplotlib.pyplot as plt\n",
    "from api.core import AnnotatorPipeline\n",
    "import orfipy_core as oc\n",
    "from tqdm import tqdm\n",
    "\n",
    "# Initialize\n",
    "annotator = AnnotatorPipeline()\n",
    "data_dir = Path('./data3-cds')\n",
    "results = []\n",
    "\n",
    "# Helper: parse .gff\n",
    "def parse_gff(gff_file):\n",
    "    cds_coords = set()\n",
    "    with open(gff_file, 'r') as f:\n",
    "        for line in f:\n",
    "            if line.startswith(\"#\"): continue\n",
    "            parts = line.strip().split(\"\\t\")\n",
    "            if len(parts) > 3 and parts[2] == \"CDS\":\n",
    "                cds_coords.add((int(parts[4]), parts[6]))\n",
    "    return cds_coords\n",
    "\n",
    "# Experiment\n",
    "for fa_file in sorted(data_dir.glob(\"*.fasta\")):\n",
    "    gff_file = fa_file.with_suffix(\".gff\")\n",
    "    if not gff_file.exists(): \n",
    "        continue\n",
    "\n",
    "    print(f\"Processing {fa_file.name}\")\n",
    "    cds_truth = parse_gff(gff_file)\n",
    "\n",
    "    for record in SeqIO.parse(fa_file, \"fasta\"):\n",
    "        seq = str(record.seq)\n",
    "        seq_rc = str(record.seq.reverse_complement())\n",
    "        orfs_pos, orfs_neg = annotator._parse_orfs(\n",
    "            oc.start_search(seq, seq_rc, record.id, 10, 1000000, 'b',\n",
    "                            ['TTG', 'CTG', 'ATG', 'GTG'],\n",
    "                            ['TAA', 'TAG', 'TGA'], '1', True, False,\n",
    "                            False, False, True,\n",
    "                            [False, False, True, False, False])[2]\n",
    "        )\n",
    "\n",
    "        inputs = annotator._cds_input_parser(orfs_pos, \"+\") + annotator._cds_input_parser(orfs_neg, \"-\")\n",
    "        sequences = [x[\"sequence\"] for x in inputs]\n",
    "        meta = [{\"start\": x[\"start\"], \"end\": x[\"end\"], \"strand\": x[\"strand\"], \"len\": x[\"end\"] - x[\"start\"]} for x in inputs]\n",
    "        preds = annotator._prediction(annotator.model_cds, annotator.tokenizer, sequences)\n",
    "\n",
    "        for p, m in zip(preds, meta):\n",
    "            label = 1 if (m[\"end\"], m[\"strand\"]) in cds_truth else 0\n",
    "            results.append({\n",
    "                \"Genome\": fa_file.name,\n",
    "                \"Length\": m[\"len\"],\n",
    "                \"TrueLabel\": label,\n",
    "                \"PredLabel\": p\n",
    "            })"
   ]
  },
  {
   "cell_type": "code",
   "execution_count": 5,
   "id": "08d0cf87-f85c-407a-9366-516fa3d1a80f",
   "metadata": {},
   "outputs": [
    {
     "ename": "NameError",
     "evalue": "name 'cds_truth' is not defined",
     "output_type": "error",
     "traceback": [
      "\u001b[31m---------------------------------------------------------------------------\u001b[39m",
      "\u001b[31mNameError\u001b[39m                                 Traceback (most recent call last)",
      "\u001b[36mCell\u001b[39m\u001b[36m \u001b[39m\u001b[32mIn[5]\u001b[39m\u001b[32m, line 1\u001b[39m\n\u001b[32m----> \u001b[39m\u001b[32m1\u001b[39m \u001b[43mcds_truth\u001b[49m\n",
      "\u001b[31mNameError\u001b[39m: name 'cds_truth' is not defined"
     ]
    }
   ],
   "source": [
    "cds_truth"
   ]
  },
  {
   "cell_type": "code",
   "execution_count": 8,
   "id": "35a59ed0-dde2-4938-93f5-59971259ef35",
   "metadata": {},
   "outputs": [
    {
     "data": {
      "text/html": [
       "<div>\n",
       "<style scoped>\n",
       "    .dataframe tbody tr th:only-of-type {\n",
       "        vertical-align: middle;\n",
       "    }\n",
       "\n",
       "    .dataframe tbody tr th {\n",
       "        vertical-align: top;\n",
       "    }\n",
       "\n",
       "    .dataframe thead th {\n",
       "        text-align: right;\n",
       "    }\n",
       "</style>\n",
       "<table border=\"1\" class=\"dataframe\">\n",
       "  <thead>\n",
       "    <tr style=\"text-align: right;\">\n",
       "      <th></th>\n",
       "    </tr>\n",
       "  </thead>\n",
       "  <tbody>\n",
       "  </tbody>\n",
       "</table>\n",
       "</div>"
      ],
      "text/plain": [
       "Empty DataFrame\n",
       "Columns: []\n",
       "Index: []"
      ]
     },
     "execution_count": 8,
     "metadata": {},
     "output_type": "execute_result"
    }
   ],
   "source": [
    "# CSV\n",
    "df = pd.DataFrame(results)\n",
    "df.head()"
   ]
  },
  {
   "cell_type": "code",
   "execution_count": 7,
   "id": "a2bf33ca-2097-49d8-bfbb-d306b4d15709",
   "metadata": {},
   "outputs": [
    {
     "ename": "KeyError",
     "evalue": "'Length'",
     "output_type": "error",
     "traceback": [
      "\u001b[31m---------------------------------------------------------------------------\u001b[39m",
      "\u001b[31mKeyError\u001b[39m                                  Traceback (most recent call last)",
      "\u001b[36mCell\u001b[39m\u001b[36m \u001b[39m\u001b[32mIn[7]\u001b[39m\u001b[32m, line 5\u001b[39m\n\u001b[32m      3\u001b[39m bins = [\u001b[32m0\u001b[39m, \u001b[32m100\u001b[39m, \u001b[32m200\u001b[39m, \u001b[32m300\u001b[39m, \u001b[32m400\u001b[39m, \u001b[32m500\u001b[39m, \u001b[32m1000\u001b[39m, \u001b[32m2000\u001b[39m, \u001b[32m10000\u001b[39m]\n\u001b[32m      4\u001b[39m labels = [\u001b[33m\"\u001b[39m\u001b[33m<100\u001b[39m\u001b[33m\"\u001b[39m, \u001b[33m\"\u001b[39m\u001b[33m100-200\u001b[39m\u001b[33m\"\u001b[39m, \u001b[33m\"\u001b[39m\u001b[33m200-300\u001b[39m\u001b[33m\"\u001b[39m, \u001b[33m\"\u001b[39m\u001b[33m300-400\u001b[39m\u001b[33m\"\u001b[39m, \u001b[33m\"\u001b[39m\u001b[33m400-500\u001b[39m\u001b[33m\"\u001b[39m, \u001b[33m\"\u001b[39m\u001b[33m500-1000\u001b[39m\u001b[33m\"\u001b[39m, \u001b[33m\"\u001b[39m\u001b[33m1000-2000\u001b[39m\u001b[33m\"\u001b[39m, \u001b[33m\"\u001b[39m\u001b[33m≥2000\u001b[39m\u001b[33m\"\u001b[39m]\n\u001b[32m----> \u001b[39m\u001b[32m5\u001b[39m df[\u001b[33m\"\u001b[39m\u001b[33mLengthBin\u001b[39m\u001b[33m\"\u001b[39m] = pd.cut(\u001b[43mdf\u001b[49m\u001b[43m[\u001b[49m\u001b[33;43m\"\u001b[39;49m\u001b[33;43mLength\u001b[39;49m\u001b[33;43m\"\u001b[39;49m\u001b[43m]\u001b[49m, bins=bins, labels=labels, include_lowest=\u001b[38;5;28;01mTrue\u001b[39;00m)\n\u001b[32m      7\u001b[39m summary = df.groupby(\u001b[33m\"\u001b[39m\u001b[33mLengthBin\u001b[39m\u001b[33m\"\u001b[39m).apply(\n\u001b[32m      8\u001b[39m     \u001b[38;5;28;01mlambda\u001b[39;00m g: pd.Series({\n\u001b[32m      9\u001b[39m         \u001b[33m\"\u001b[39m\u001b[33mCount\u001b[39m\u001b[33m\"\u001b[39m: \u001b[38;5;28mlen\u001b[39m(g),\n\u001b[32m   (...)\u001b[39m\u001b[32m     13\u001b[39m     })\n\u001b[32m     14\u001b[39m ).reset_index()\n\u001b[32m     16\u001b[39m summary.to_csv(\u001b[33m\"\u001b[39m\u001b[33mcds_performance_by_orf_length.csv\u001b[39m\u001b[33m\"\u001b[39m, index=\u001b[38;5;28;01mFalse\u001b[39;00m)\n",
      "\u001b[36mFile \u001b[39m\u001b[32m~/DATALAB/DEV/GeneLM/webtool/venv/lib/python3.12/site-packages/pandas/core/frame.py:4102\u001b[39m, in \u001b[36mDataFrame.__getitem__\u001b[39m\u001b[34m(self, key)\u001b[39m\n\u001b[32m   4100\u001b[39m \u001b[38;5;28;01mif\u001b[39;00m \u001b[38;5;28mself\u001b[39m.columns.nlevels > \u001b[32m1\u001b[39m:\n\u001b[32m   4101\u001b[39m     \u001b[38;5;28;01mreturn\u001b[39;00m \u001b[38;5;28mself\u001b[39m._getitem_multilevel(key)\n\u001b[32m-> \u001b[39m\u001b[32m4102\u001b[39m indexer = \u001b[38;5;28;43mself\u001b[39;49m\u001b[43m.\u001b[49m\u001b[43mcolumns\u001b[49m\u001b[43m.\u001b[49m\u001b[43mget_loc\u001b[49m\u001b[43m(\u001b[49m\u001b[43mkey\u001b[49m\u001b[43m)\u001b[49m\n\u001b[32m   4103\u001b[39m \u001b[38;5;28;01mif\u001b[39;00m is_integer(indexer):\n\u001b[32m   4104\u001b[39m     indexer = [indexer]\n",
      "\u001b[36mFile \u001b[39m\u001b[32m~/DATALAB/DEV/GeneLM/webtool/venv/lib/python3.12/site-packages/pandas/core/indexes/range.py:417\u001b[39m, in \u001b[36mRangeIndex.get_loc\u001b[39m\u001b[34m(self, key)\u001b[39m\n\u001b[32m    415\u001b[39m         \u001b[38;5;28;01mraise\u001b[39;00m \u001b[38;5;167;01mKeyError\u001b[39;00m(key) \u001b[38;5;28;01mfrom\u001b[39;00m\u001b[38;5;250m \u001b[39m\u001b[34;01merr\u001b[39;00m\n\u001b[32m    416\u001b[39m \u001b[38;5;28;01mif\u001b[39;00m \u001b[38;5;28misinstance\u001b[39m(key, Hashable):\n\u001b[32m--> \u001b[39m\u001b[32m417\u001b[39m     \u001b[38;5;28;01mraise\u001b[39;00m \u001b[38;5;167;01mKeyError\u001b[39;00m(key)\n\u001b[32m    418\u001b[39m \u001b[38;5;28mself\u001b[39m._check_indexing_error(key)\n\u001b[32m    419\u001b[39m \u001b[38;5;28;01mraise\u001b[39;00m \u001b[38;5;167;01mKeyError\u001b[39;00m(key)\n",
      "\u001b[31mKeyError\u001b[39m: 'Length'"
     ]
    }
   ],
   "source": [
    "bins = [0, 100, 200, 300, 400, 500, 1000, 2000, 10000]\n",
    "labels = [\"<100\", \"100-200\", \"200-300\", \"300-400\", \"400-500\", \"500-1000\", \"1000-2000\", \"≥2000\"]\n",
    "df[\"LengthBin\"] = pd.cut(df[\"Length\"], bins=bins, labels=labels, include_lowest=True)\n",
    "\n",
    "summary = df.groupby(\"LengthBin\").apply(\n",
    "    lambda g: pd.Series({\n",
    "        \"Count\": len(g),\n",
    "        \"Precision\": np.mean((g[\"PredLabel\"] == 1) & (g[\"TrueLabel\"] == 1)) / max(np.mean(g[\"PredLabel\"] == 1), 1e-6),\n",
    "        \"Recall\": np.mean((g[\"PredLabel\"] == 1) & (g[\"TrueLabel\"] == 1)) / max(np.mean(g[\"TrueLabel\"] == 1), 1e-6),\n",
    "        \"Accuracy\": np.mean(g[\"PredLabel\"] == g[\"TrueLabel\"])\n",
    "    })\n",
    ").reset_index()\n",
    "\n",
    "summary.to_csv(\"cds_performance_by_orf_length.csv\", index=False)"
   ]
  },
  {
   "cell_type": "code",
   "execution_count": null,
   "id": "af116401-bfc9-44b7-bc2c-b4d386b9aff3",
   "metadata": {},
   "outputs": [],
   "source": [
    "\n",
    "\n",
    "# Plot\n",
    "summary.plot(x=\"LengthBin\", y=[\"Precision\", \"Recall\", \"Accuracy\"], kind=\"bar\", figsize=(10, 6))\n",
    "plt.title(\"CDS Classifier Performance by ORF Length\")\n",
    "plt.ylabel(\"Metric Score\")\n",
    "plt.xticks(rotation=45)\n",
    "plt.grid(True)\n",
    "plt.tight_layout()\n",
    "plt.show()"
   ]
  }
 ],
 "metadata": {
  "kernelspec": {
   "display_name": "GeneLM",
   "language": "python",
   "name": "genelm"
  },
  "language_info": {
   "codemirror_mode": {
    "name": "ipython",
    "version": 3
   },
   "file_extension": ".py",
   "mimetype": "text/x-python",
   "name": "python",
   "nbconvert_exporter": "python",
   "pygments_lexer": "ipython3",
   "version": "3.12.2"
  }
 },
 "nbformat": 4,
 "nbformat_minor": 5
}
